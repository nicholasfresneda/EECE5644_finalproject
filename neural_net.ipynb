{
 "cells": [
  {
   "cell_type": "code",
   "execution_count": 1,
   "metadata": {},
   "outputs": [],
   "source": [
    "import pandas as pd\n",
    "pd.set_option('display.max_columns', None)\n",
    "import numpy as np\n",
    "import matplotlib.pyplot as plt\n",
    "\n",
    "from sklearn.neural_network import MLPRegressor\n",
    "from sklearn.metrics import mean_absolute_error\n",
    "from sklearn.metrics import mean_squared_error"
   ]
  },
  {
   "cell_type": "markdown",
   "metadata": {},
   "source": [
    "## Split Data into Train, Validate, and Test Sets"
   ]
  },
  {
   "cell_type": "code",
   "execution_count": 2,
   "metadata": {},
   "outputs": [],
   "source": [
    "df = pd.read_csv(\"CleanedNormalizedData.csv\")\n",
    "df = df.drop(columns=['Unnamed: 0',\n",
    "                      'weather_main',\n",
    "                      'weather_description',\n",
    "                      'date_time',\n",
    "                      'date'])"
   ]
  },
  {
   "cell_type": "code",
   "execution_count": 3,
   "metadata": {
    "scrolled": true
   },
   "outputs": [
    {
     "data": {
      "text/html": [
       "<div>\n",
       "<style scoped>\n",
       "    .dataframe tbody tr th:only-of-type {\n",
       "        vertical-align: middle;\n",
       "    }\n",
       "\n",
       "    .dataframe tbody tr th {\n",
       "        vertical-align: top;\n",
       "    }\n",
       "\n",
       "    .dataframe thead th {\n",
       "        text-align: right;\n",
       "    }\n",
       "</style>\n",
       "<table border=\"1\" class=\"dataframe\">\n",
       "  <thead>\n",
       "    <tr style=\"text-align: right;\">\n",
       "      <th></th>\n",
       "      <th>holiday</th>\n",
       "      <th>temp</th>\n",
       "      <th>rain_1h</th>\n",
       "      <th>snow_1h</th>\n",
       "      <th>clouds_all</th>\n",
       "      <th>traffic_volume</th>\n",
       "      <th>hour</th>\n",
       "      <th>month</th>\n",
       "      <th>weekend</th>\n",
       "      <th>year</th>\n",
       "      <th>MIST</th>\n",
       "      <th>THUNDERSTORM</th>\n",
       "      <th>SNOW</th>\n",
       "      <th>RAIN</th>\n",
       "      <th>SQUALL</th>\n",
       "      <th>HAZE</th>\n",
       "      <th>FOG</th>\n",
       "      <th>DRIZZLE</th>\n",
       "      <th>CLEAR</th>\n",
       "      <th>CLOUDS</th>\n",
       "      <th>SMOKE</th>\n",
       "    </tr>\n",
       "  </thead>\n",
       "  <tbody>\n",
       "    <tr>\n",
       "      <th>0</th>\n",
       "      <td>0</td>\n",
       "      <td>0.685513</td>\n",
       "      <td>1.000000</td>\n",
       "      <td>0.0</td>\n",
       "      <td>68</td>\n",
       "      <td>315</td>\n",
       "      <td>0.086957</td>\n",
       "      <td>8</td>\n",
       "      <td>4</td>\n",
       "      <td>2013</td>\n",
       "      <td>0</td>\n",
       "      <td>0</td>\n",
       "      <td>0</td>\n",
       "      <td>1</td>\n",
       "      <td>0</td>\n",
       "      <td>0</td>\n",
       "      <td>0</td>\n",
       "      <td>0</td>\n",
       "      <td>0</td>\n",
       "      <td>0</td>\n",
       "      <td>0</td>\n",
       "    </tr>\n",
       "    <tr>\n",
       "      <th>1</th>\n",
       "      <td>0</td>\n",
       "      <td>0.786293</td>\n",
       "      <td>0.799029</td>\n",
       "      <td>0.0</td>\n",
       "      <td>76</td>\n",
       "      <td>4802</td>\n",
       "      <td>0.478261</td>\n",
       "      <td>6</td>\n",
       "      <td>2</td>\n",
       "      <td>2013</td>\n",
       "      <td>0</td>\n",
       "      <td>0</td>\n",
       "      <td>0</td>\n",
       "      <td>1</td>\n",
       "      <td>0</td>\n",
       "      <td>0</td>\n",
       "      <td>0</td>\n",
       "      <td>0</td>\n",
       "      <td>0</td>\n",
       "      <td>0</td>\n",
       "      <td>0</td>\n",
       "    </tr>\n",
       "    <tr>\n",
       "      <th>2</th>\n",
       "      <td>0</td>\n",
       "      <td>0.814637</td>\n",
       "      <td>0.570735</td>\n",
       "      <td>0.0</td>\n",
       "      <td>0</td>\n",
       "      <td>4913</td>\n",
       "      <td>0.739130</td>\n",
       "      <td>8</td>\n",
       "      <td>3</td>\n",
       "      <td>2016</td>\n",
       "      <td>0</td>\n",
       "      <td>0</td>\n",
       "      <td>0</td>\n",
       "      <td>1</td>\n",
       "      <td>0</td>\n",
       "      <td>0</td>\n",
       "      <td>0</td>\n",
       "      <td>0</td>\n",
       "      <td>0</td>\n",
       "      <td>0</td>\n",
       "      <td>0</td>\n",
       "    </tr>\n",
       "    <tr>\n",
       "      <th>3</th>\n",
       "      <td>0</td>\n",
       "      <td>0.316587</td>\n",
       "      <td>0.515909</td>\n",
       "      <td>0.0</td>\n",
       "      <td>64</td>\n",
       "      <td>1190</td>\n",
       "      <td>1.000000</td>\n",
       "      <td>12</td>\n",
       "      <td>5</td>\n",
       "      <td>2013</td>\n",
       "      <td>0</td>\n",
       "      <td>0</td>\n",
       "      <td>0</td>\n",
       "      <td>1</td>\n",
       "      <td>0</td>\n",
       "      <td>0</td>\n",
       "      <td>0</td>\n",
       "      <td>0</td>\n",
       "      <td>0</td>\n",
       "      <td>0</td>\n",
       "      <td>0</td>\n",
       "    </tr>\n",
       "    <tr>\n",
       "      <th>4</th>\n",
       "      <td>0</td>\n",
       "      <td>0.316587</td>\n",
       "      <td>0.515909</td>\n",
       "      <td>0.0</td>\n",
       "      <td>64</td>\n",
       "      <td>1190</td>\n",
       "      <td>1.000000</td>\n",
       "      <td>12</td>\n",
       "      <td>5</td>\n",
       "      <td>2013</td>\n",
       "      <td>0</td>\n",
       "      <td>0</td>\n",
       "      <td>1</td>\n",
       "      <td>0</td>\n",
       "      <td>0</td>\n",
       "      <td>0</td>\n",
       "      <td>0</td>\n",
       "      <td>0</td>\n",
       "      <td>0</td>\n",
       "      <td>0</td>\n",
       "      <td>0</td>\n",
       "    </tr>\n",
       "  </tbody>\n",
       "</table>\n",
       "</div>"
      ],
      "text/plain": [
       "   holiday      temp   rain_1h  snow_1h  clouds_all  traffic_volume      hour  \\\n",
       "0        0  0.685513  1.000000      0.0          68             315  0.086957   \n",
       "1        0  0.786293  0.799029      0.0          76            4802  0.478261   \n",
       "2        0  0.814637  0.570735      0.0           0            4913  0.739130   \n",
       "3        0  0.316587  0.515909      0.0          64            1190  1.000000   \n",
       "4        0  0.316587  0.515909      0.0          64            1190  1.000000   \n",
       "\n",
       "   month  weekend  year  MIST  THUNDERSTORM  SNOW  RAIN  SQUALL  HAZE  FOG  \\\n",
       "0      8        4  2013     0             0     0     1       0     0    0   \n",
       "1      6        2  2013     0             0     0     1       0     0    0   \n",
       "2      8        3  2016     0             0     0     1       0     0    0   \n",
       "3     12        5  2013     0             0     0     1       0     0    0   \n",
       "4     12        5  2013     0             0     1     0       0     0    0   \n",
       "\n",
       "   DRIZZLE  CLEAR  CLOUDS  SMOKE  \n",
       "0        0      0       0      0  \n",
       "1        0      0       0      0  \n",
       "2        0      0       0      0  \n",
       "3        0      0       0      0  \n",
       "4        0      0       0      0  "
      ]
     },
     "execution_count": 3,
     "metadata": {},
     "output_type": "execute_result"
    }
   ],
   "source": [
    "df.head()"
   ]
  },
  {
   "cell_type": "code",
   "execution_count": 4,
   "metadata": {
    "scrolled": true
   },
   "outputs": [
    {
     "data": {
      "text/html": [
       "<div>\n",
       "<style scoped>\n",
       "    .dataframe tbody tr th:only-of-type {\n",
       "        vertical-align: middle;\n",
       "    }\n",
       "\n",
       "    .dataframe tbody tr th {\n",
       "        vertical-align: top;\n",
       "    }\n",
       "\n",
       "    .dataframe thead th {\n",
       "        text-align: right;\n",
       "    }\n",
       "</style>\n",
       "<table border=\"1\" class=\"dataframe\">\n",
       "  <thead>\n",
       "    <tr style=\"text-align: right;\">\n",
       "      <th></th>\n",
       "      <th>holiday</th>\n",
       "      <th>temp</th>\n",
       "      <th>rain_1h</th>\n",
       "      <th>snow_1h</th>\n",
       "      <th>clouds_all</th>\n",
       "      <th>traffic_volume</th>\n",
       "      <th>hour</th>\n",
       "      <th>month</th>\n",
       "      <th>weekend</th>\n",
       "      <th>year</th>\n",
       "      <th>MIST</th>\n",
       "      <th>THUNDERSTORM</th>\n",
       "      <th>SNOW</th>\n",
       "      <th>RAIN</th>\n",
       "      <th>SQUALL</th>\n",
       "      <th>HAZE</th>\n",
       "      <th>FOG</th>\n",
       "      <th>DRIZZLE</th>\n",
       "      <th>CLEAR</th>\n",
       "      <th>CLOUDS</th>\n",
       "      <th>SMOKE</th>\n",
       "    </tr>\n",
       "  </thead>\n",
       "  <tbody>\n",
       "    <tr>\n",
       "      <th>count</th>\n",
       "      <td>48176.000000</td>\n",
       "      <td>48176.000000</td>\n",
       "      <td>48176.000000</td>\n",
       "      <td>48176.000000</td>\n",
       "      <td>48176.000000</td>\n",
       "      <td>48176.000000</td>\n",
       "      <td>48176.000000</td>\n",
       "      <td>48176.000000</td>\n",
       "      <td>48176.000000</td>\n",
       "      <td>48176.000000</td>\n",
       "      <td>48176.000000</td>\n",
       "      <td>48176.000000</td>\n",
       "      <td>48176.000000</td>\n",
       "      <td>48176.000000</td>\n",
       "      <td>48176.000000</td>\n",
       "      <td>48176.000000</td>\n",
       "      <td>48176.000000</td>\n",
       "      <td>48176.000000</td>\n",
       "      <td>48176.000000</td>\n",
       "      <td>48176.000000</td>\n",
       "      <td>48176.000000</td>\n",
       "    </tr>\n",
       "    <tr>\n",
       "      <th>mean</th>\n",
       "      <td>0.019117</td>\n",
       "      <td>0.567980</td>\n",
       "      <td>0.002344</td>\n",
       "      <td>0.000436</td>\n",
       "      <td>49.375166</td>\n",
       "      <td>3259.973887</td>\n",
       "      <td>0.495606</td>\n",
       "      <td>6.506248</td>\n",
       "      <td>3.987172</td>\n",
       "      <td>2015.512351</td>\n",
       "      <td>0.123485</td>\n",
       "      <td>0.021442</td>\n",
       "      <td>0.059677</td>\n",
       "      <td>0.117714</td>\n",
       "      <td>0.000083</td>\n",
       "      <td>0.028230</td>\n",
       "      <td>0.018931</td>\n",
       "      <td>0.037778</td>\n",
       "      <td>0.277607</td>\n",
       "      <td>0.314638</td>\n",
       "      <td>0.000415</td>\n",
       "    </tr>\n",
       "    <tr>\n",
       "      <th>std</th>\n",
       "      <td>0.136939</td>\n",
       "      <td>0.190607</td>\n",
       "      <td>0.018042</td>\n",
       "      <td>0.016020</td>\n",
       "      <td>39.013008</td>\n",
       "      <td>1986.847829</td>\n",
       "      <td>0.301760</td>\n",
       "      <td>3.399930</td>\n",
       "      <td>1.998869</td>\n",
       "      <td>1.893482</td>\n",
       "      <td>0.328996</td>\n",
       "      <td>0.144855</td>\n",
       "      <td>0.236890</td>\n",
       "      <td>0.322273</td>\n",
       "      <td>0.009112</td>\n",
       "      <td>0.165631</td>\n",
       "      <td>0.136281</td>\n",
       "      <td>0.190661</td>\n",
       "      <td>0.447823</td>\n",
       "      <td>0.464376</td>\n",
       "      <td>0.020371</td>\n",
       "    </tr>\n",
       "    <tr>\n",
       "      <th>min</th>\n",
       "      <td>0.000000</td>\n",
       "      <td>0.000000</td>\n",
       "      <td>0.000000</td>\n",
       "      <td>0.000000</td>\n",
       "      <td>0.000000</td>\n",
       "      <td>0.000000</td>\n",
       "      <td>0.000000</td>\n",
       "      <td>1.000000</td>\n",
       "      <td>1.000000</td>\n",
       "      <td>2012.000000</td>\n",
       "      <td>0.000000</td>\n",
       "      <td>0.000000</td>\n",
       "      <td>0.000000</td>\n",
       "      <td>0.000000</td>\n",
       "      <td>0.000000</td>\n",
       "      <td>0.000000</td>\n",
       "      <td>0.000000</td>\n",
       "      <td>0.000000</td>\n",
       "      <td>0.000000</td>\n",
       "      <td>0.000000</td>\n",
       "      <td>0.000000</td>\n",
       "    </tr>\n",
       "    <tr>\n",
       "      <th>25%</th>\n",
       "      <td>0.000000</td>\n",
       "      <td>0.431764</td>\n",
       "      <td>0.000000</td>\n",
       "      <td>0.000000</td>\n",
       "      <td>1.000000</td>\n",
       "      <td>1194.000000</td>\n",
       "      <td>0.217391</td>\n",
       "      <td>4.000000</td>\n",
       "      <td>2.000000</td>\n",
       "      <td>2014.000000</td>\n",
       "      <td>0.000000</td>\n",
       "      <td>0.000000</td>\n",
       "      <td>0.000000</td>\n",
       "      <td>0.000000</td>\n",
       "      <td>0.000000</td>\n",
       "      <td>0.000000</td>\n",
       "      <td>0.000000</td>\n",
       "      <td>0.000000</td>\n",
       "      <td>0.000000</td>\n",
       "      <td>0.000000</td>\n",
       "      <td>0.000000</td>\n",
       "    </tr>\n",
       "    <tr>\n",
       "      <th>50%</th>\n",
       "      <td>0.000000</td>\n",
       "      <td>0.585933</td>\n",
       "      <td>0.000000</td>\n",
       "      <td>0.000000</td>\n",
       "      <td>64.000000</td>\n",
       "      <td>3380.000000</td>\n",
       "      <td>0.478261</td>\n",
       "      <td>7.000000</td>\n",
       "      <td>4.000000</td>\n",
       "      <td>2016.000000</td>\n",
       "      <td>0.000000</td>\n",
       "      <td>0.000000</td>\n",
       "      <td>0.000000</td>\n",
       "      <td>0.000000</td>\n",
       "      <td>0.000000</td>\n",
       "      <td>0.000000</td>\n",
       "      <td>0.000000</td>\n",
       "      <td>0.000000</td>\n",
       "      <td>0.000000</td>\n",
       "      <td>0.000000</td>\n",
       "      <td>0.000000</td>\n",
       "    </tr>\n",
       "    <tr>\n",
       "      <th>75%</th>\n",
       "      <td>0.000000</td>\n",
       "      <td>0.726110</td>\n",
       "      <td>0.000000</td>\n",
       "      <td>0.000000</td>\n",
       "      <td>90.000000</td>\n",
       "      <td>4933.000000</td>\n",
       "      <td>0.739130</td>\n",
       "      <td>9.000000</td>\n",
       "      <td>6.000000</td>\n",
       "      <td>2017.000000</td>\n",
       "      <td>0.000000</td>\n",
       "      <td>0.000000</td>\n",
       "      <td>0.000000</td>\n",
       "      <td>0.000000</td>\n",
       "      <td>0.000000</td>\n",
       "      <td>0.000000</td>\n",
       "      <td>0.000000</td>\n",
       "      <td>0.000000</td>\n",
       "      <td>1.000000</td>\n",
       "      <td>1.000000</td>\n",
       "      <td>0.000000</td>\n",
       "    </tr>\n",
       "    <tr>\n",
       "      <th>max</th>\n",
       "      <td>1.000000</td>\n",
       "      <td>1.000000</td>\n",
       "      <td>1.000000</td>\n",
       "      <td>1.000000</td>\n",
       "      <td>100.000000</td>\n",
       "      <td>7280.000000</td>\n",
       "      <td>1.000000</td>\n",
       "      <td>12.000000</td>\n",
       "      <td>7.000000</td>\n",
       "      <td>2018.000000</td>\n",
       "      <td>1.000000</td>\n",
       "      <td>1.000000</td>\n",
       "      <td>1.000000</td>\n",
       "      <td>1.000000</td>\n",
       "      <td>1.000000</td>\n",
       "      <td>1.000000</td>\n",
       "      <td>1.000000</td>\n",
       "      <td>1.000000</td>\n",
       "      <td>1.000000</td>\n",
       "      <td>1.000000</td>\n",
       "      <td>1.000000</td>\n",
       "    </tr>\n",
       "  </tbody>\n",
       "</table>\n",
       "</div>"
      ],
      "text/plain": [
       "            holiday          temp       rain_1h       snow_1h    clouds_all  \\\n",
       "count  48176.000000  48176.000000  48176.000000  48176.000000  48176.000000   \n",
       "mean       0.019117      0.567980      0.002344      0.000436     49.375166   \n",
       "std        0.136939      0.190607      0.018042      0.016020     39.013008   \n",
       "min        0.000000      0.000000      0.000000      0.000000      0.000000   \n",
       "25%        0.000000      0.431764      0.000000      0.000000      1.000000   \n",
       "50%        0.000000      0.585933      0.000000      0.000000     64.000000   \n",
       "75%        0.000000      0.726110      0.000000      0.000000     90.000000   \n",
       "max        1.000000      1.000000      1.000000      1.000000    100.000000   \n",
       "\n",
       "       traffic_volume          hour         month       weekend          year  \\\n",
       "count    48176.000000  48176.000000  48176.000000  48176.000000  48176.000000   \n",
       "mean      3259.973887      0.495606      6.506248      3.987172   2015.512351   \n",
       "std       1986.847829      0.301760      3.399930      1.998869      1.893482   \n",
       "min          0.000000      0.000000      1.000000      1.000000   2012.000000   \n",
       "25%       1194.000000      0.217391      4.000000      2.000000   2014.000000   \n",
       "50%       3380.000000      0.478261      7.000000      4.000000   2016.000000   \n",
       "75%       4933.000000      0.739130      9.000000      6.000000   2017.000000   \n",
       "max       7280.000000      1.000000     12.000000      7.000000   2018.000000   \n",
       "\n",
       "               MIST  THUNDERSTORM          SNOW          RAIN        SQUALL  \\\n",
       "count  48176.000000  48176.000000  48176.000000  48176.000000  48176.000000   \n",
       "mean       0.123485      0.021442      0.059677      0.117714      0.000083   \n",
       "std        0.328996      0.144855      0.236890      0.322273      0.009112   \n",
       "min        0.000000      0.000000      0.000000      0.000000      0.000000   \n",
       "25%        0.000000      0.000000      0.000000      0.000000      0.000000   \n",
       "50%        0.000000      0.000000      0.000000      0.000000      0.000000   \n",
       "75%        0.000000      0.000000      0.000000      0.000000      0.000000   \n",
       "max        1.000000      1.000000      1.000000      1.000000      1.000000   \n",
       "\n",
       "               HAZE           FOG       DRIZZLE         CLEAR        CLOUDS  \\\n",
       "count  48176.000000  48176.000000  48176.000000  48176.000000  48176.000000   \n",
       "mean       0.028230      0.018931      0.037778      0.277607      0.314638   \n",
       "std        0.165631      0.136281      0.190661      0.447823      0.464376   \n",
       "min        0.000000      0.000000      0.000000      0.000000      0.000000   \n",
       "25%        0.000000      0.000000      0.000000      0.000000      0.000000   \n",
       "50%        0.000000      0.000000      0.000000      0.000000      0.000000   \n",
       "75%        0.000000      0.000000      0.000000      1.000000      1.000000   \n",
       "max        1.000000      1.000000      1.000000      1.000000      1.000000   \n",
       "\n",
       "              SMOKE  \n",
       "count  48176.000000  \n",
       "mean       0.000415  \n",
       "std        0.020371  \n",
       "min        0.000000  \n",
       "25%        0.000000  \n",
       "50%        0.000000  \n",
       "75%        0.000000  \n",
       "max        1.000000  "
      ]
     },
     "execution_count": 4,
     "metadata": {},
     "output_type": "execute_result"
    }
   ],
   "source": [
    "df.describe()"
   ]
  },
  {
   "cell_type": "code",
   "execution_count": 5,
   "metadata": {},
   "outputs": [],
   "source": [
    "#split into train, validate, and testing datasets\n",
    "\n",
    "df_train = df.loc[df['year'] <= 2015].drop(columns=['year']) #to train model\n",
    "df_validate = df.loc[df['year'] == 2016].drop(columns=['year']) #for tuning hyperparams\n",
    "df_test = df.loc[df['year'] >= 2017].drop(columns=['year']) #for final testing at end"
   ]
  },
  {
   "cell_type": "markdown",
   "metadata": {},
   "source": [
    "## Split Sets into Features and Labels\n",
    "Features = weather/time information, Labels = traffic_volume"
   ]
  },
  {
   "cell_type": "code",
   "execution_count": 6,
   "metadata": {},
   "outputs": [
    {
     "data": {
      "text/html": [
       "<div>\n",
       "<style scoped>\n",
       "    .dataframe tbody tr th:only-of-type {\n",
       "        vertical-align: middle;\n",
       "    }\n",
       "\n",
       "    .dataframe tbody tr th {\n",
       "        vertical-align: top;\n",
       "    }\n",
       "\n",
       "    .dataframe thead th {\n",
       "        text-align: right;\n",
       "    }\n",
       "</style>\n",
       "<table border=\"1\" class=\"dataframe\">\n",
       "  <thead>\n",
       "    <tr style=\"text-align: right;\">\n",
       "      <th></th>\n",
       "      <th>holiday</th>\n",
       "      <th>temp</th>\n",
       "      <th>rain_1h</th>\n",
       "      <th>snow_1h</th>\n",
       "      <th>clouds_all</th>\n",
       "      <th>traffic_volume</th>\n",
       "      <th>hour</th>\n",
       "      <th>month</th>\n",
       "      <th>weekend</th>\n",
       "      <th>MIST</th>\n",
       "      <th>THUNDERSTORM</th>\n",
       "      <th>SNOW</th>\n",
       "      <th>RAIN</th>\n",
       "      <th>SQUALL</th>\n",
       "      <th>HAZE</th>\n",
       "      <th>FOG</th>\n",
       "      <th>DRIZZLE</th>\n",
       "      <th>CLEAR</th>\n",
       "      <th>CLOUDS</th>\n",
       "      <th>SMOKE</th>\n",
       "    </tr>\n",
       "  </thead>\n",
       "  <tbody>\n",
       "    <tr>\n",
       "      <th>82</th>\n",
       "      <td>0</td>\n",
       "      <td>0.712208</td>\n",
       "      <td>0.190545</td>\n",
       "      <td>0.0</td>\n",
       "      <td>90</td>\n",
       "      <td>2957</td>\n",
       "      <td>0.826087</td>\n",
       "      <td>9</td>\n",
       "      <td>5</td>\n",
       "      <td>0</td>\n",
       "      <td>0</td>\n",
       "      <td>0</td>\n",
       "      <td>1</td>\n",
       "      <td>0</td>\n",
       "      <td>0</td>\n",
       "      <td>0</td>\n",
       "      <td>0</td>\n",
       "      <td>0</td>\n",
       "      <td>0</td>\n",
       "      <td>0</td>\n",
       "    </tr>\n",
       "    <tr>\n",
       "      <th>83</th>\n",
       "      <td>0</td>\n",
       "      <td>0.712208</td>\n",
       "      <td>0.190545</td>\n",
       "      <td>0.0</td>\n",
       "      <td>90</td>\n",
       "      <td>2957</td>\n",
       "      <td>0.826087</td>\n",
       "      <td>9</td>\n",
       "      <td>5</td>\n",
       "      <td>0</td>\n",
       "      <td>1</td>\n",
       "      <td>0</td>\n",
       "      <td>0</td>\n",
       "      <td>0</td>\n",
       "      <td>0</td>\n",
       "      <td>0</td>\n",
       "      <td>0</td>\n",
       "      <td>0</td>\n",
       "      <td>0</td>\n",
       "      <td>0</td>\n",
       "    </tr>\n",
       "    <tr>\n",
       "      <th>84</th>\n",
       "      <td>0</td>\n",
       "      <td>0.712208</td>\n",
       "      <td>0.190545</td>\n",
       "      <td>0.0</td>\n",
       "      <td>90</td>\n",
       "      <td>2957</td>\n",
       "      <td>0.826087</td>\n",
       "      <td>9</td>\n",
       "      <td>5</td>\n",
       "      <td>1</td>\n",
       "      <td>0</td>\n",
       "      <td>0</td>\n",
       "      <td>0</td>\n",
       "      <td>0</td>\n",
       "      <td>0</td>\n",
       "      <td>0</td>\n",
       "      <td>0</td>\n",
       "      <td>0</td>\n",
       "      <td>0</td>\n",
       "      <td>0</td>\n",
       "    </tr>\n",
       "    <tr>\n",
       "      <th>85</th>\n",
       "      <td>0</td>\n",
       "      <td>0.712208</td>\n",
       "      <td>0.190545</td>\n",
       "      <td>0.0</td>\n",
       "      <td>90</td>\n",
       "      <td>2957</td>\n",
       "      <td>0.826087</td>\n",
       "      <td>9</td>\n",
       "      <td>5</td>\n",
       "      <td>0</td>\n",
       "      <td>0</td>\n",
       "      <td>0</td>\n",
       "      <td>0</td>\n",
       "      <td>0</td>\n",
       "      <td>1</td>\n",
       "      <td>0</td>\n",
       "      <td>0</td>\n",
       "      <td>0</td>\n",
       "      <td>0</td>\n",
       "      <td>0</td>\n",
       "    </tr>\n",
       "    <tr>\n",
       "      <th>100</th>\n",
       "      <td>0</td>\n",
       "      <td>0.712507</td>\n",
       "      <td>0.172928</td>\n",
       "      <td>0.0</td>\n",
       "      <td>90</td>\n",
       "      <td>3898</td>\n",
       "      <td>0.782609</td>\n",
       "      <td>9</td>\n",
       "      <td>5</td>\n",
       "      <td>0</td>\n",
       "      <td>0</td>\n",
       "      <td>0</td>\n",
       "      <td>1</td>\n",
       "      <td>0</td>\n",
       "      <td>0</td>\n",
       "      <td>0</td>\n",
       "      <td>0</td>\n",
       "      <td>0</td>\n",
       "      <td>0</td>\n",
       "      <td>0</td>\n",
       "    </tr>\n",
       "  </tbody>\n",
       "</table>\n",
       "</div>"
      ],
      "text/plain": [
       "     holiday      temp   rain_1h  snow_1h  clouds_all  traffic_volume  \\\n",
       "82         0  0.712208  0.190545      0.0          90            2957   \n",
       "83         0  0.712208  0.190545      0.0          90            2957   \n",
       "84         0  0.712208  0.190545      0.0          90            2957   \n",
       "85         0  0.712208  0.190545      0.0          90            2957   \n",
       "100        0  0.712507  0.172928      0.0          90            3898   \n",
       "\n",
       "         hour  month  weekend  MIST  THUNDERSTORM  SNOW  RAIN  SQUALL  HAZE  \\\n",
       "82   0.826087      9        5     0             0     0     1       0     0   \n",
       "83   0.826087      9        5     0             1     0     0       0     0   \n",
       "84   0.826087      9        5     1             0     0     0       0     0   \n",
       "85   0.826087      9        5     0             0     0     0       0     1   \n",
       "100  0.782609      9        5     0             0     0     1       0     0   \n",
       "\n",
       "     FOG  DRIZZLE  CLEAR  CLOUDS  SMOKE  \n",
       "82     0        0      0       0      0  \n",
       "83     0        0      0       0      0  \n",
       "84     0        0      0       0      0  \n",
       "85     0        0      0       0      0  \n",
       "100    0        0      0       0      0  "
      ]
     },
     "execution_count": 6,
     "metadata": {},
     "output_type": "execute_result"
    }
   ],
   "source": [
    "df_test.head()"
   ]
  },
  {
   "cell_type": "code",
   "execution_count": 81,
   "metadata": {},
   "outputs": [
    {
     "data": {
      "text/plain": [
       "<matplotlib.axes._subplots.AxesSubplot at 0x1a26698278>"
      ]
     },
     "execution_count": 81,
     "metadata": {},
     "output_type": "execute_result"
    },
    {
     "data": {
      "image/png": "[encoded data removed]",
      "text/plain": [
       "<Figure size 432x288 with 1 Axes>"
      ]
     },
     "metadata": {
      "needs_background": "light"
     },
     "output_type": "display_data"
    }
   ],
   "source": [
    "df_train.traffic_volume.hist()"
   ]
  },
  {
   "cell_type": "code",
   "execution_count": 7,
   "metadata": {},
   "outputs": [],
   "source": [
    "x_train = df_train.drop(columns=['traffic_volume']).values\n",
    "y_train = df_train.traffic_volume.values\n",
    "\n",
    "x_valid = df_validate.drop(columns=['traffic_volume']).values\n",
    "y_valid = df_validate.traffic_volume.values\n",
    "\n",
    "x_test = df_test.drop(columns=['traffic_volume']).values\n",
    "y_test = df_test.traffic_volume.values"
   ]
  },
  {
   "cell_type": "markdown",
   "metadata": {},
   "source": [
    "## Build the MLP Model"
   ]
  },
  {
   "cell_type": "code",
   "execution_count": 75,
   "metadata": {},
   "outputs": [],
   "source": [
    "def build_reg(x, y, n_perc,a_func):\n",
    "    \n",
    "    reg = MLPRegressor(hidden_layer_sizes=(n_perc,n_perc,n_perc),\n",
    "                       activation=a_func,\n",
    "                       solver='adam',\n",
    "                       batch_size='auto',\n",
    "                       learning_rate='constant',\n",
    "                       learning_rate_init=0.01,\n",
    "                       max_iter=1000,\n",
    "                       shuffle=True)\n",
    "    \n",
    "    reg = reg.fit(x, y)\n",
    "    \n",
    "    return reg"
   ]
  },
  {
   "cell_type": "code",
   "execution_count": 51,
   "metadata": {},
   "outputs": [],
   "source": [
    "model = build_reg(x_train,y_train,30,\"relu\",0.01)"
   ]
  },
  {
   "cell_type": "code",
   "execution_count": 52,
   "metadata": {},
   "outputs": [
    {
     "data": {
      "text/plain": [
       "511.3008453391658"
      ]
     },
     "execution_count": 52,
     "metadata": {},
     "output_type": "execute_result"
    }
   ],
   "source": [
    "mean_absolute_error(model.predict(x_valid),y_valid)"
   ]
  },
  {
   "cell_type": "markdown",
   "metadata": {},
   "source": [
    "## Tuning: Run Grid-Search on Hyperparameters"
   ]
  },
  {
   "cell_type": "code",
   "execution_count": 73,
   "metadata": {},
   "outputs": [],
   "source": [
    "#defining my own grid search due to known bugs with sklearn's \"GridSearchCV\"\n",
    "\n",
    "def gridsearch_hyperparams(x_tr,y_tr, #training data\n",
    "                           x_val,y_val, #validation data\n",
    "                           perceptrons,\n",
    "                           activations):\n",
    "    \n",
    "    scores = np.empty([len(perceptrons),len(activations)])\n",
    "    mse_best = None\n",
    "    \n",
    "    for P in range(len(perceptrons)):\n",
    "        for A in range(len(activations)):\n",
    "                \n",
    "                #train model\n",
    "                model = build_reg(x_tr,y_tr,\n",
    "                                  perceptrons[P],\n",
    "                                  activations[A])\n",
    "                \n",
    "                #compute loss, store in scores\n",
    "                y_pr = model.predict(x_val)\n",
    "                mse = mean_absolute_error(y_pr,y_val)\n",
    "                scores[P][A] = mse\n",
    "                \n",
    "                #update best model\n",
    "                if mse_best==None:\n",
    "                    mse_best = mse\n",
    "                    model_best = model\n",
    "                elif mse < mse_best:\n",
    "                    mse_best = mse\n",
    "                    model_best = model\n",
    "            \n",
    "    return scores, model_best"
   ]
  },
  {
   "cell_type": "code",
   "execution_count": 76,
   "metadata": {
    "scrolled": true
   },
   "outputs": [],
   "source": [
    "results, model = gridsearch_hyperparams(x_train,y_train,x_valid,y_valid,\n",
    "                                       [10,20,30,40,50,60,70,80,90,100],\n",
    "                                       [\"logistic\",\"relu\",\"tanh\"])"
   ]
  },
  {
   "cell_type": "code",
   "execution_count": 77,
   "metadata": {},
   "outputs": [
    {
     "data": {
      "text/plain": [
       "351.2968250243225"
      ]
     },
     "execution_count": 77,
     "metadata": {},
     "output_type": "execute_result"
    }
   ],
   "source": [
    "y_pred = model.predict(x_valid)\n",
    "mean_absolute_error(y_pred,y_valid)"
   ]
  },
  {
   "cell_type": "markdown",
   "metadata": {},
   "source": [
    "Note, DARK=good, since these values are lower (lower error)"
   ]
  },
  {
   "cell_type": "code",
   "execution_count": 78,
   "metadata": {
    "scrolled": true
   },
   "outputs": [
    {
     "data": {
      "image/png": "[encoded data removed]",
      "text/plain": [
       "<Figure size 432x288 with 2 Axes>"
      ]
     },
     "metadata": {
      "needs_background": "light"
     },
     "output_type": "display_data"
    }
   ],
   "source": [
    "plt.imshow(results, origin=\"lower\", cmap='gray', interpolation='nearest')\n",
    "plt.colorbar()\n",
    "plt.show()"
   ]
  },
  {
   "cell_type": "code",
   "execution_count": 85,
   "metadata": {},
   "outputs": [
    {
     "data": {
      "text/plain": [
       "(array([6]), array([1]))"
      ]
     },
     "execution_count": 85,
     "metadata": {},
     "output_type": "execute_result"
    }
   ],
   "source": [
    "np.where(results == np.amin(results))"
   ]
  },
  {
   "cell_type": "markdown",
   "metadata": {},
   "source": [
    "Therefore, best hyperparameters were \n",
    "- 70 perceptrons\n",
    "- ReLU activation functions "
   ]
  },
  {
   "cell_type": "markdown",
   "metadata": {},
   "source": [
    "## Test on Holdout Data"
   ]
  },
  {
   "cell_type": "code",
   "execution_count": 89,
   "metadata": {},
   "outputs": [
    {
     "name": "stdout",
     "output_type": "stream",
     "text": [
      "Mean Absolute Error: 318.4166727396268\n",
      "Mean Squared Error: 222179.0693168229\n"
     ]
    }
   ],
   "source": [
    "# Test on Holdout\n",
    "y_predictions = model.predict(x_test)\n",
    "print(\"Mean Absolute Error:\",mean_absolute_error(y_predictions,y_test))\n",
    "print(\"Mean Squared Error:\",mean_squared_error(y_predictions,y_test))"
   ]
  },
  {
   "cell_type": "code",
   "execution_count": 97,
   "metadata": {},
   "outputs": [],
   "source": [
    "# find score of a classifier\n",
    "# compares predicted traffic volume to real traffic volume, if within 5% of real, it is deemed correct\n",
    "# arguments:\n",
    "#   pred = predictions\n",
    "#   ytest = real values\n",
    "#   error = percent allowable error\n",
    "def correct_within_error(pred, ytest, error):\n",
    "\n",
    "    count = 0\n",
    "    for i in range(0, len(y_pred)):\n",
    "        delta = ytest[i] * error\n",
    "        if ytest[i] - delta < pred[i] < ytest[i] + delta:\n",
    "            count = count + 1\n",
    "\n",
    "    return count / len(y_pred)"
   ]
  },
  {
   "cell_type": "code",
   "execution_count": 114,
   "metadata": {
    "scrolled": true
   },
   "outputs": [
    {
     "name": "stdout",
     "output_type": "stream",
     "text": [
      "Predictions correct within 10% margin: 57.6836218948274 %\n",
      "Predictions correct within 15% margin: 73.2874502634692 %\n",
      "Predictions correct within 20% margin: 82.06258737498656 %\n"
     ]
    }
   ],
   "source": [
    "#10 percent\n",
    "correct_to_10perc = correct_within_error(y_predictions,y_test,.1)\n",
    "print(\"Predictions correct within 10% margin:\",100*correct_to_10perc,\"%\")\n",
    "#15 percent\n",
    "correct_to_15perc = correct_within_error(y_predictions,y_test,.15)\n",
    "print(\"Predictions correct within 15% margin:\",100*correct_to_15perc,\"%\")\n",
    "#20 percent\n",
    "correct_to_20perc = correct_within_error(y_predictions,y_test,.2)\n",
    "print(\"Predictions correct within 20% margin:\",100*correct_to_20perc,\"%\")"
   ]
  },
  {
   "cell_type": "code",
   "execution_count": 116,
   "metadata": {},
   "outputs": [
    {
     "data": {
      "text/plain": [
       "Text(0.5, 1.0, 'Predictions vs Actual Values (Line shows 0 error)')"
      ]
     },
     "execution_count": 116,
     "metadata": {},
     "output_type": "execute_result"
    },
    {
     "data": {
      "image/png": "[encoded data removed]",
      "text/plain": [
       "<Figure size 432x288 with 1 Axes>"
      ]
     },
     "metadata": {
      "needs_background": "light"
     },
     "output_type": "display_data"
    }
   ],
   "source": [
    "plt.plot(y_test,y_predictions,'o',alpha=0.1)\n",
    "plt.plot([0,7500],[0,7500],color=\"orange\")\n",
    "plt.title(\"Predictions vs Actual Values (Line shows 0 error)\")"
   ]
  },
  {
   "cell_type": "markdown",
   "metadata": {},
   "source": [
    "## Save Results in csv"
   ]
  },
  {
   "cell_type": "code",
   "execution_count": 117,
   "metadata": {},
   "outputs": [],
   "source": [
    "df_test['predictions'] = y_predictions"
   ]
  },
  {
   "cell_type": "code",
   "execution_count": 118,
   "metadata": {},
   "outputs": [],
   "source": [
    "df_test.to_csv(\"ResultsFromNeuralNet.csv\")"
   ]
  }
 ],
 "metadata": {
  "kernelspec": {
   "display_name": "intro_ml",
   "language": "python",
   "name": "intro_ml"
  },
  "language_info": {
   "codemirror_mode": {
    "name": "ipython",
    "version": 3
   },
   "file_extension": ".py",
   "mimetype": "text/x-python",
   "name": "python",
   "nbconvert_exporter": "python",
   "pygments_lexer": "ipython3",
   "version": "3.6.8"
  }
 },
 "nbformat": 4,
 "nbformat_minor": 2
}
